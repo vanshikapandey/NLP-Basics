{
  "nbformat": 4,
  "nbformat_minor": 0,
  "metadata": {
    "colab": {
      "name": "Basic_Text_PreProcessing_using_NLTK",
      "provenance": [],
      "authorship_tag": "ABX9TyNoyu2639lMpg8T27ckuvfi",
      "include_colab_link": true
    },
    "kernelspec": {
      "name": "python3",
      "display_name": "Python 3"
    },
    "language_info": {
      "name": "python"
    }
  },
  "cells": [
    {
      "cell_type": "markdown",
      "metadata": {
        "id": "view-in-github",
        "colab_type": "text"
      },
      "source": [
        "<a href=\"https://colab.research.google.com/github/vanshikapandey/NLP-Basics/blob/main/Basic_Text_PreProcessing_using_NLTK.ipynb\" target=\"_parent\"><img src=\"https://colab.research.google.com/assets/colab-badge.svg\" alt=\"Open In Colab\"/></a>"
      ]
    },
    {
      "cell_type": "code",
      "metadata": {
        "id": "pXECAdzYC5ly"
      },
      "source": [
        "import nltk                                                          # Natural Language Toolkit\n",
        "import re\n",
        "import string\n",
        "from nltk.tokenize import word_tokenize , sent_tokenize\n",
        "from nltk.stem import PorterStemmer, WordNetLemmatizer               #Stemming and Lemmatization"
      ],
      "execution_count": 33,
      "outputs": []
    },
    {
      "cell_type": "code",
      "metadata": {
        "id": "IoH94rmdSlYn"
      },
      "source": [
        "file = open(\"/content/the_thirteenth_tale.txt\",\"r\")\n",
        "\n",
        "text = file.read()              #reading of file"
      ],
      "execution_count": 34,
      "outputs": []
    },
    {
      "cell_type": "code",
      "metadata": {
        "colab": {
          "base_uri": "https://localhost:8080/",
          "height": 137
        },
        "id": "T0xj3dd1TJ5V",
        "outputId": "a1116c6f-fe4e-4c8f-c1ca-ca627d888ed9"
      },
      "source": [
        "text"
      ],
      "execution_count": 35,
      "outputs": [
        {
          "output_type": "execute_result",
          "data": {
            "application/vnd.google.colaboratory.intrinsic+json": {
              "type": "string"
            },
            "text/plain": [
              "'I opened the 2 letters and pulled out a sheaf of half? a dozen pages, all written in the same laborious? 32 script. Thanks to my work, I am 5 years experienced in the reading of difficult manuscripts. There is no great secret to it. Patience and practice are all that is required 70. That and the willingness to cultivate an inner eye!!. When you read a manuscript that has been damaged by water, fire, light or just the passing of the years, your eye needs to study not just the shape of the letters but other marks of production. The speed of the pen. The pressure of the hand on the page. Breaks and releases in the flow. You must relax. Think of nothing. Until you wake into a dream where you are at once a pen flying over vellum and the vellum itself with the touch of ink tickling your surface. Then you can read it. The intention of the writer, his thoughts, his hesitations, his longings and his meaning. You can read as clearly as if you were ! the very candlelight!!! illuminating the page as the pen speeds over it. Not that this letter was anything like as challenging as some chase.\\n\\n'"
            ]
          },
          "metadata": {},
          "execution_count": 35
        }
      ]
    },
    {
      "cell_type": "code",
      "metadata": {
        "colab": {
          "base_uri": "https://localhost:8080/"
        },
        "id": "yVVlAv5aTnTO",
        "outputId": "8b6357b4-80b0-4f17-970c-85505ebb7021"
      },
      "source": [
        "text = text.lower()     #converting to lowercase\n",
        "print(text)"
      ],
      "execution_count": 36,
      "outputs": [
        {
          "output_type": "stream",
          "name": "stdout",
          "text": [
            "i opened the 2 letters and pulled out a sheaf of half? a dozen pages, all written in the same laborious? 32 script. thanks to my work, i am 5 years experienced in the reading of difficult manuscripts. there is no great secret to it. patience and practice are all that is required 70. that and the willingness to cultivate an inner eye!!. when you read a manuscript that has been damaged by water, fire, light or just the passing of the years, your eye needs to study not just the shape of the letters but other marks of production. the speed of the pen. the pressure of the hand on the page. breaks and releases in the flow. you must relax. think of nothing. until you wake into a dream where you are at once a pen flying over vellum and the vellum itself with the touch of ink tickling your surface. then you can read it. the intention of the writer, his thoughts, his hesitations, his longings and his meaning. you can read as clearly as if you were ! the very candlelight!!! illuminating the page as the pen speeds over it. not that this letter was anything like as challenging as some chase.\n",
            "\n",
            "\n"
          ]
        }
      ]
    },
    {
      "cell_type": "code",
      "metadata": {
        "colab": {
          "base_uri": "https://localhost:8080/"
        },
        "id": "VvvxiCTyTs4P",
        "outputId": "220c72b3-143f-47f8-f247-75c8b65f4fc4"
      },
      "source": [
        "text = re.sub(r'\\d+','',text)   # removing numbers\n",
        "print(text)"
      ],
      "execution_count": 37,
      "outputs": [
        {
          "output_type": "stream",
          "name": "stdout",
          "text": [
            "i opened the  letters and pulled out a sheaf of half? a dozen pages, all written in the same laborious?  script. thanks to my work, i am  years experienced in the reading of difficult manuscripts. there is no great secret to it. patience and practice are all that is required . that and the willingness to cultivate an inner eye!!. when you read a manuscript that has been damaged by water, fire, light or just the passing of the years, your eye needs to study not just the shape of the letters but other marks of production. the speed of the pen. the pressure of the hand on the page. breaks and releases in the flow. you must relax. think of nothing. until you wake into a dream where you are at once a pen flying over vellum and the vellum itself with the touch of ink tickling your surface. then you can read it. the intention of the writer, his thoughts, his hesitations, his longings and his meaning. you can read as clearly as if you were ! the very candlelight!!! illuminating the page as the pen speeds over it. not that this letter was anything like as challenging as some chase.\n",
            "\n",
            "\n"
          ]
        }
      ]
    },
    {
      "cell_type": "code",
      "metadata": {
        "colab": {
          "base_uri": "https://localhost:8080/",
          "height": 137
        },
        "id": "B7RuwBLPVFdl",
        "outputId": "b8814666-6986-4769-8eab-ff15997783c9"
      },
      "source": [
        "translator = str.maketrans('','', string.punctuation)     #removing all punctuations\n",
        "text.translate(translator)\n",
        "text"
      ],
      "execution_count": 38,
      "outputs": [
        {
          "output_type": "execute_result",
          "data": {
            "application/vnd.google.colaboratory.intrinsic+json": {
              "type": "string"
            },
            "text/plain": [
              "'i opened the  letters and pulled out a sheaf of half? a dozen pages, all written in the same laborious?  script. thanks to my work, i am  years experienced in the reading of difficult manuscripts. there is no great secret to it. patience and practice are all that is required . that and the willingness to cultivate an inner eye!!. when you read a manuscript that has been damaged by water, fire, light or just the passing of the years, your eye needs to study not just the shape of the letters but other marks of production. the speed of the pen. the pressure of the hand on the page. breaks and releases in the flow. you must relax. think of nothing. until you wake into a dream where you are at once a pen flying over vellum and the vellum itself with the touch of ink tickling your surface. then you can read it. the intention of the writer, his thoughts, his hesitations, his longings and his meaning. you can read as clearly as if you were ! the very candlelight!!! illuminating the page as the pen speeds over it. not that this letter was anything like as challenging as some chase.\\n\\n'"
            ]
          },
          "metadata": {},
          "execution_count": 38
        }
      ]
    },
    {
      "cell_type": "code",
      "metadata": {
        "colab": {
          "base_uri": "https://localhost:8080/"
        },
        "id": "WiekfR0wWRBQ",
        "outputId": "8ab83212-967c-40c0-fadd-eb61a7e92cba"
      },
      "source": [
        "nltk.download('punkt')\n",
        "nltk.download('stopwords')\n",
        "nltk.download('wordnet')"
      ],
      "execution_count": 21,
      "outputs": [
        {
          "output_type": "stream",
          "name": "stdout",
          "text": [
            "[nltk_data] Downloading package punkt to /root/nltk_data...\n",
            "[nltk_data]   Unzipping tokenizers/punkt.zip.\n",
            "[nltk_data] Downloading package stopwords to /root/nltk_data...\n",
            "[nltk_data]   Unzipping corpora/stopwords.zip.\n",
            "[nltk_data] Downloading package wordnet to /root/nltk_data...\n",
            "[nltk_data]   Unzipping corpora/wordnet.zip.\n"
          ]
        },
        {
          "output_type": "execute_result",
          "data": {
            "text/plain": [
              "True"
            ]
          },
          "metadata": {},
          "execution_count": 21
        }
      ]
    },
    {
      "cell_type": "code",
      "metadata": {
        "id": "_PdqZFyuWL7X"
      },
      "source": [
        "from nltk.corpus import stopwords"
      ],
      "execution_count": 22,
      "outputs": []
    },
    {
      "cell_type": "code",
      "metadata": {
        "colab": {
          "base_uri": "https://localhost:8080/"
        },
        "id": "iWaM6rnrW8U1",
        "outputId": "058091a5-f523-42b0-994d-5b42f3971838"
      },
      "source": [
        "print(word_tokenize(text))  #tokenizing text as words\n",
        "print(sent_tokenize(text))   #tokenizing text as sentence"
      ],
      "execution_count": 24,
      "outputs": [
        {
          "output_type": "stream",
          "name": "stdout",
          "text": [
            "['i', 'opened', 'the', 'letters', 'and', 'pulled', 'out', 'a', 'sheaf', 'of', 'half', '?', 'a', 'dozen', 'pages', ',', 'all', 'written', 'in', 'the', 'same', 'laborious', '?', 'script', '.', 'thanks', 'to', 'my', 'work', ',', 'i', 'am', 'years', 'experienced', 'in', 'the', 'reading', 'of', 'difficult', 'manuscripts', '.', 'there', 'is', 'no', 'great', 'secret', 'to', 'it', '.', 'patience', 'and', 'practice', 'are', 'all', 'that', 'is', 'required', '.', 'that', 'and', 'the', 'willingness', 'to', 'cultivate', 'an', 'inner', 'eye', '!', '!', '.', 'when', 'you', 'read', 'a', 'manuscript', 'that', 'has', 'been', 'damaged', 'by', 'water', ',', 'fire', ',', 'light', 'or', 'just', 'the', 'passing', 'of', 'the', 'years', ',', 'your', 'eye', 'needs', 'to', 'study', 'not', 'just', 'the', 'shape', 'of', 'the', 'letters', 'but', 'other', 'marks', 'of', 'production', '.', 'the', 'speed', 'of', 'the', 'pen', '.', 'the', 'pressure', 'of', 'the', 'hand', 'on', 'the', 'page', '.', 'breaks', 'and', 'releases', 'in', 'the', 'flow', '.', 'you', 'must', 'relax', '.', 'think', 'of', 'nothing', '.', 'until', 'you', 'wake', 'into', 'a', 'dream', 'where', 'you', 'are', 'at', 'once', 'a', 'pen', 'flying', 'over', 'vellum', 'and', 'the', 'vellum', 'itself', 'with', 'the', 'touch', 'of', 'ink', 'tickling', 'your', 'surface', '.', 'then', 'you', 'can', 'read', 'it', '.', 'the', 'intention', 'of', 'the', 'writer', ',', 'his', 'thoughts', ',', 'his', 'hesitations', ',', 'his', 'longings', 'and', 'his', 'meaning', '.', 'you', 'can', 'read', 'as', 'clearly', 'as', 'if', 'you', 'were', '!', 'the', 'very', 'candlelight', '!', '!', '!', 'illuminating', 'the', 'page', 'as', 'the', 'pen', 'speeds', 'over', 'it', '.', 'not', 'that', 'this', 'letter', 'was', 'anything', 'like', 'as', 'challenging', 'as', 'some', 'chase', '.']\n",
            "['i opened the  letters and pulled out a sheaf of half?', 'a dozen pages, all written in the same laborious?', 'script.', 'thanks to my work, i am  years experienced in the reading of difficult manuscripts.', 'there is no great secret to it.', 'patience and practice are all that is required .', 'that and the willingness to cultivate an inner eye!!.', 'when you read a manuscript that has been damaged by water, fire, light or just the passing of the years, your eye needs to study not just the shape of the letters but other marks of production.', 'the speed of the pen.', 'the pressure of the hand on the page.', 'breaks and releases in the flow.', 'you must relax.', 'think of nothing.', 'until you wake into a dream where you are at once a pen flying over vellum and the vellum itself with the touch of ink tickling your surface.', 'then you can read it.', 'the intention of the writer, his thoughts, his hesitations, his longings and his meaning.', 'you can read as clearly as if you were !', 'the very candlelight!!!', 'illuminating the page as the pen speeds over it.', 'not that this letter was anything like as challenging as some chase.']\n"
          ]
        }
      ]
    },
    {
      "cell_type": "code",
      "metadata": {
        "colab": {
          "base_uri": "https://localhost:8080/"
        },
        "id": "jSgy_tyZXkgC",
        "outputId": "6334c850-27dd-4166-dd92-0f26cab4060b"
      },
      "source": [
        "stopword = stopwords.words('english')   # gettng stopwords from english language\n",
        "tokenized_words = word_tokenize(text)   #firstly tokenizing the corpus in words\n",
        "filtered_text = []\n",
        "\n",
        "for word in tokenized_words:\n",
        "  if word not in stopword:\n",
        "    filtered_text.append(word)          # appending onlu those words which are not stopwords\n",
        "\n",
        "\n",
        "# print(stopword)\n",
        "print(filtered_text)"
      ],
      "execution_count": 28,
      "outputs": [
        {
          "output_type": "stream",
          "name": "stdout",
          "text": [
            "['opened', 'letters', 'pulled', 'sheaf', 'half', '?', 'dozen', 'pages', ',', 'written', 'laborious', '?', 'script', '.', 'thanks', 'work', ',', 'years', 'experienced', 'reading', 'difficult', 'manuscripts', '.', 'great', 'secret', '.', 'patience', 'practice', 'required', '.', 'willingness', 'cultivate', 'inner', 'eye', '!', '!', '.', 'read', 'manuscript', 'damaged', 'water', ',', 'fire', ',', 'light', 'passing', 'years', ',', 'eye', 'needs', 'study', 'shape', 'letters', 'marks', 'production', '.', 'speed', 'pen', '.', 'pressure', 'hand', 'page', '.', 'breaks', 'releases', 'flow', '.', 'must', 'relax', '.', 'think', 'nothing', '.', 'wake', 'dream', 'pen', 'flying', 'vellum', 'vellum', 'touch', 'ink', 'tickling', 'surface', '.', 'read', '.', 'intention', 'writer', ',', 'thoughts', ',', 'hesitations', ',', 'longings', 'meaning', '.', 'read', 'clearly', '!', 'candlelight', '!', '!', '!', 'illuminating', 'page', 'pen', 'speeds', '.', 'letter', 'anything', 'like', 'challenging', 'chase', '.']\n"
          ]
        }
      ]
    },
    {
      "cell_type": "code",
      "metadata": {
        "colab": {
          "base_uri": "https://localhost:8080/"
        },
        "id": "Z0AGeMxFclFN",
        "outputId": "e2f95256-0a9b-485f-9c13-548dd7d0a52a"
      },
      "source": [
        "ps = nltk.stem.PorterStemmer()      #stemming\n",
        "\n",
        "tokenized_words = word_tokenize(text)\n",
        "\n",
        "for word in tokenized_words:\n",
        "  print(ps.stem(word))\n",
        "\n",
        "\n"
      ],
      "execution_count": 39,
      "outputs": [
        {
          "output_type": "stream",
          "name": "stdout",
          "text": [
            "i\n",
            "open\n",
            "the\n",
            "letter\n",
            "and\n",
            "pull\n",
            "out\n",
            "a\n",
            "sheaf\n",
            "of\n",
            "half\n",
            "?\n",
            "a\n",
            "dozen\n",
            "page\n",
            ",\n",
            "all\n",
            "written\n",
            "in\n",
            "the\n",
            "same\n",
            "labori\n",
            "?\n",
            "script\n",
            ".\n",
            "thank\n",
            "to\n",
            "my\n",
            "work\n",
            ",\n",
            "i\n",
            "am\n",
            "year\n",
            "experienc\n",
            "in\n",
            "the\n",
            "read\n",
            "of\n",
            "difficult\n",
            "manuscript\n",
            ".\n",
            "there\n",
            "is\n",
            "no\n",
            "great\n",
            "secret\n",
            "to\n",
            "it\n",
            ".\n",
            "patienc\n",
            "and\n",
            "practic\n",
            "are\n",
            "all\n",
            "that\n",
            "is\n",
            "requir\n",
            ".\n",
            "that\n",
            "and\n",
            "the\n",
            "willing\n",
            "to\n",
            "cultiv\n",
            "an\n",
            "inner\n",
            "eye\n",
            "!\n",
            "!\n",
            ".\n",
            "when\n",
            "you\n",
            "read\n",
            "a\n",
            "manuscript\n",
            "that\n",
            "ha\n",
            "been\n",
            "damag\n",
            "by\n",
            "water\n",
            ",\n",
            "fire\n",
            ",\n",
            "light\n",
            "or\n",
            "just\n",
            "the\n",
            "pass\n",
            "of\n",
            "the\n",
            "year\n",
            ",\n",
            "your\n",
            "eye\n",
            "need\n",
            "to\n",
            "studi\n",
            "not\n",
            "just\n",
            "the\n",
            "shape\n",
            "of\n",
            "the\n",
            "letter\n",
            "but\n",
            "other\n",
            "mark\n",
            "of\n",
            "product\n",
            ".\n",
            "the\n",
            "speed\n",
            "of\n",
            "the\n",
            "pen\n",
            ".\n",
            "the\n",
            "pressur\n",
            "of\n",
            "the\n",
            "hand\n",
            "on\n",
            "the\n",
            "page\n",
            ".\n",
            "break\n",
            "and\n",
            "releas\n",
            "in\n",
            "the\n",
            "flow\n",
            ".\n",
            "you\n",
            "must\n",
            "relax\n",
            ".\n",
            "think\n",
            "of\n",
            "noth\n",
            ".\n",
            "until\n",
            "you\n",
            "wake\n",
            "into\n",
            "a\n",
            "dream\n",
            "where\n",
            "you\n",
            "are\n",
            "at\n",
            "onc\n",
            "a\n",
            "pen\n",
            "fli\n",
            "over\n",
            "vellum\n",
            "and\n",
            "the\n",
            "vellum\n",
            "itself\n",
            "with\n",
            "the\n",
            "touch\n",
            "of\n",
            "ink\n",
            "tickl\n",
            "your\n",
            "surfac\n",
            ".\n",
            "then\n",
            "you\n",
            "can\n",
            "read\n",
            "it\n",
            ".\n",
            "the\n",
            "intent\n",
            "of\n",
            "the\n",
            "writer\n",
            ",\n",
            "hi\n",
            "thought\n",
            ",\n",
            "hi\n",
            "hesit\n",
            ",\n",
            "hi\n",
            "long\n",
            "and\n",
            "hi\n",
            "mean\n",
            ".\n",
            "you\n",
            "can\n",
            "read\n",
            "as\n",
            "clearli\n",
            "as\n",
            "if\n",
            "you\n",
            "were\n",
            "!\n",
            "the\n",
            "veri\n",
            "candlelight\n",
            "!\n",
            "!\n",
            "!\n",
            "illumin\n",
            "the\n",
            "page\n",
            "as\n",
            "the\n",
            "pen\n",
            "speed\n",
            "over\n",
            "it\n",
            ".\n",
            "not\n",
            "that\n",
            "thi\n",
            "letter\n",
            "wa\n",
            "anyth\n",
            "like\n",
            "as\n",
            "challeng\n",
            "as\n",
            "some\n",
            "chase\n",
            ".\n"
          ]
        }
      ]
    },
    {
      "cell_type": "code",
      "metadata": {
        "colab": {
          "base_uri": "https://localhost:8080/"
        },
        "id": "_ATrJ4Bjd3Jk",
        "outputId": "7549b76f-4f08-42a2-c892-5443a35df0d8"
      },
      "source": [
        "lemmatizer = nltk.stem.WordNetLemmatizer()   # lemmatization\n",
        "\n",
        "tokenized_words = word_tokenize(text)\n",
        "\n",
        "for word in tokenized_words:                  # lemmatization\n",
        "  print(lemmatizer.lemmatize(word))"
      ],
      "execution_count": 42,
      "outputs": [
        {
          "output_type": "stream",
          "name": "stdout",
          "text": [
            "i\n",
            "opened\n",
            "the\n",
            "letter\n",
            "and\n",
            "pulled\n",
            "out\n",
            "a\n",
            "sheaf\n",
            "of\n",
            "half\n",
            "?\n",
            "a\n",
            "dozen\n",
            "page\n",
            ",\n",
            "all\n",
            "written\n",
            "in\n",
            "the\n",
            "same\n",
            "laborious\n",
            "?\n",
            "script\n",
            ".\n",
            "thanks\n",
            "to\n",
            "my\n",
            "work\n",
            ",\n",
            "i\n",
            "am\n",
            "year\n",
            "experienced\n",
            "in\n",
            "the\n",
            "reading\n",
            "of\n",
            "difficult\n",
            "manuscript\n",
            ".\n",
            "there\n",
            "is\n",
            "no\n",
            "great\n",
            "secret\n",
            "to\n",
            "it\n",
            ".\n",
            "patience\n",
            "and\n",
            "practice\n",
            "are\n",
            "all\n",
            "that\n",
            "is\n",
            "required\n",
            ".\n",
            "that\n",
            "and\n",
            "the\n",
            "willingness\n",
            "to\n",
            "cultivate\n",
            "an\n",
            "inner\n",
            "eye\n",
            "!\n",
            "!\n",
            ".\n",
            "when\n",
            "you\n",
            "read\n",
            "a\n",
            "manuscript\n",
            "that\n",
            "ha\n",
            "been\n",
            "damaged\n",
            "by\n",
            "water\n",
            ",\n",
            "fire\n",
            ",\n",
            "light\n",
            "or\n",
            "just\n",
            "the\n",
            "passing\n",
            "of\n",
            "the\n",
            "year\n",
            ",\n",
            "your\n",
            "eye\n",
            "need\n",
            "to\n",
            "study\n",
            "not\n",
            "just\n",
            "the\n",
            "shape\n",
            "of\n",
            "the\n",
            "letter\n",
            "but\n",
            "other\n",
            "mark\n",
            "of\n",
            "production\n",
            ".\n",
            "the\n",
            "speed\n",
            "of\n",
            "the\n",
            "pen\n",
            ".\n",
            "the\n",
            "pressure\n",
            "of\n",
            "the\n",
            "hand\n",
            "on\n",
            "the\n",
            "page\n",
            ".\n",
            "break\n",
            "and\n",
            "release\n",
            "in\n",
            "the\n",
            "flow\n",
            ".\n",
            "you\n",
            "must\n",
            "relax\n",
            ".\n",
            "think\n",
            "of\n",
            "nothing\n",
            ".\n",
            "until\n",
            "you\n",
            "wake\n",
            "into\n",
            "a\n",
            "dream\n",
            "where\n",
            "you\n",
            "are\n",
            "at\n",
            "once\n",
            "a\n",
            "pen\n",
            "flying\n",
            "over\n",
            "vellum\n",
            "and\n",
            "the\n",
            "vellum\n",
            "itself\n",
            "with\n",
            "the\n",
            "touch\n",
            "of\n",
            "ink\n",
            "tickling\n",
            "your\n",
            "surface\n",
            ".\n",
            "then\n",
            "you\n",
            "can\n",
            "read\n",
            "it\n",
            ".\n",
            "the\n",
            "intention\n",
            "of\n",
            "the\n",
            "writer\n",
            ",\n",
            "his\n",
            "thought\n",
            ",\n",
            "his\n",
            "hesitation\n",
            ",\n",
            "his\n",
            "longing\n",
            "and\n",
            "his\n",
            "meaning\n",
            ".\n",
            "you\n",
            "can\n",
            "read\n",
            "a\n",
            "clearly\n",
            "a\n",
            "if\n",
            "you\n",
            "were\n",
            "!\n",
            "the\n",
            "very\n",
            "candlelight\n",
            "!\n",
            "!\n",
            "!\n",
            "illuminating\n",
            "the\n",
            "page\n",
            "a\n",
            "the\n",
            "pen\n",
            "speed\n",
            "over\n",
            "it\n",
            ".\n",
            "not\n",
            "that\n",
            "this\n",
            "letter\n",
            "wa\n",
            "anything\n",
            "like\n",
            "a\n",
            "challenging\n",
            "a\n",
            "some\n",
            "chase\n",
            ".\n"
          ]
        }
      ]
    },
    {
      "cell_type": "code",
      "metadata": {
        "colab": {
          "base_uri": "https://localhost:8080/"
        },
        "id": "1224nN_SoVa8",
        "outputId": "1573acca-2e21-4082-b651-7f04bf741a65"
      },
      "source": [
        "# Lemmatization The WordNet lemmatizer is high-precision. It requires word-POS pairs. (By-default POS is noun.)\n",
        "\n",
        "from nltk.stem import WordNetLemmatizer\n",
        "\n",
        "lemmatizer = WordNetLemmatizer()\n",
        "\n",
        "print(\"rocks :\", lemmatizer.lemmatize(\"rocks\"))\n",
        "print(\"corpora :\", lemmatizer.lemmatize(\"corpora\"))\n",
        "print(\"began :\", lemmatizer.lemmatize(\"began\"))\n",
        " \n",
        "\n",
        "print(\"better :\", lemmatizer.lemmatize(\"better\", pos =\"a\"))       # a denotes adjective in \"pos\"\n",
        "print(\"better :\", lemmatizer.lemmatize(\"better\", pos =\"n\"))       # n denotes noun in \"pos\"\n",
        "print(\"began :\", lemmatizer.lemmatize(\"began\", pos =\"v\")) "
      ],
      "execution_count": 41,
      "outputs": [
        {
          "output_type": "stream",
          "name": "stdout",
          "text": [
            "rocks : rock\n",
            "corpora : corpus\n",
            "began : began\n",
            "better : good\n",
            "better : better\n",
            "began : begin\n"
          ]
        }
      ]
    },
    {
      "cell_type": "code",
      "metadata": {
        "colab": {
          "base_uri": "https://localhost:8080/"
        },
        "id": "2Z3vK4m7rJuK",
        "outputId": "fc478480-f418-4bd6-f2c6-55b28dd7317e"
      },
      "source": [
        "from nltk.corpus import wordnet as wn\n",
        "wn.synsets('man')"
      ],
      "execution_count": 43,
      "outputs": [
        {
          "output_type": "execute_result",
          "data": {
            "text/plain": [
              "[Synset('man.n.01'),\n",
              " Synset('serviceman.n.01'),\n",
              " Synset('man.n.03'),\n",
              " Synset('homo.n.02'),\n",
              " Synset('man.n.05'),\n",
              " Synset('man.n.06'),\n",
              " Synset('valet.n.01'),\n",
              " Synset('man.n.08'),\n",
              " Synset('man.n.09'),\n",
              " Synset('man.n.10'),\n",
              " Synset('world.n.08'),\n",
              " Synset('man.v.01'),\n",
              " Synset('man.v.02')]"
            ]
          },
          "metadata": {},
          "execution_count": 43
        }
      ]
    }
  ]
}